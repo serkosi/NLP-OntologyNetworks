{
 "cells": [
  {
   "cell_type": "code",
   "execution_count": 1,
   "id": "3f95259b",
   "metadata": {},
   "outputs": [],
   "source": [
    "import pickle\n",
    "import networkx as nx\n",
    "import matplotlib.pyplot as plt"
   ]
  },
  {
   "cell_type": "code",
   "execution_count": 3,
   "id": "ccd6a388-45d4-40a3-9171-62cde5ebadbd",
   "metadata": {},
   "outputs": [],
   "source": [
    "def graph(sent):\n",
    "    \n",
    "    nodes = list(sent.keys())\n",
    "    node_labels = list(sent.values())\n",
    "    \n",
    "    G = nx.DiGraph()\n",
    "    \n",
    "    G.add_nodes_from(nodes)\n",
    "    \n",
    "    for i in range(len(nodes)):\n",
    "        G.nodes[nodes[i]]['category'] = node_labels[i]\n",
    "    \n",
    "    node_colors = []\n",
    "    for i in range(len(nodes)):\n",
    "        if node_labels[i] == 'object':\n",
    "            node_colors.append('red')\n",
    "        if node_labels[i] == 'positioning':\n",
    "            node_colors.append('green')\n",
    "        if node_labels[i] == 'action':\n",
    "            node_colors.append('blue')\n",
    "        if node_labels[i] == 'determinant':\n",
    "            node_colors.append('orange')\n",
    "    \n",
    "    edges = []\n",
    "    try:\n",
    "        for i in range(len(sent)):\n",
    "            edges.append((list(sent.keys())[i],list(sent.keys())[i+1]))\n",
    "    except (RuntimeError, TypeError, NameError, IndexError):\n",
    "        pass\n",
    "        \n",
    "    G.add_edges_from(edges)\n",
    "\n",
    "    nx.draw(G, with_labels=True, node_size=1200, node_color=node_colors)\n",
    "    \n",
    "    return plt.show()"
   ]
  }
 ],
 "metadata": {
  "kernelspec": {
   "display_name": "Python 3 (ipykernel)",
   "language": "python",
   "name": "python3"
  },
  "language_info": {
   "codemirror_mode": {
    "name": "ipython",
    "version": 3
   },
   "file_extension": ".py",
   "mimetype": "text/x-python",
   "name": "python",
   "nbconvert_exporter": "python",
   "pygments_lexer": "ipython3",
   "version": "3.11.9"
  }
 },
 "nbformat": 4,
 "nbformat_minor": 5
}
