{
 "cells": [
  {
   "cell_type": "code",
   "execution_count": 1,
   "id": "3f95259b",
   "metadata": {},
   "outputs": [],
   "source": [
    "import re"
   ]
  },
  {
   "cell_type": "code",
   "execution_count": 2,
   "id": "f5c62ccd",
   "metadata": {},
   "outputs": [],
   "source": [
    "def clean_text(text):\n",
    "    text = re.sub(r\"\\s+\", \" \", text)\n",
    "    words = {\n",
    "        #'Soll-/Istwerte': 'Sollwerte, Istwerte',\n",
    "        ' Œ': '-', \n",
    "        '\\n':'',\n",
    "        #'[\\[].*?[\\]]': '',\n",
    "        #'[!\"#%\\'()*+,-./:;<=>?@\\[\\]^_`{|}~1234567890’\"\"′‘\\\\\\]':'', \n",
    "        #' +': ' ',\n",
    "        ' •': ''\n",
    "    }\n",
    "    for k, w in words.items():\n",
    "        text = text.replace(k, w)\n",
    "\n",
    "    return text"
   ]
  },
  {
   "cell_type": "code",
   "execution_count": 3,
   "id": "88673236",
   "metadata": {},
   "outputs": [],
   "source": [
    "def clean_text_2(text):\n",
    "    words = {\n",
    "\t'..':'', '▶':'-', '- ':'', # 1 and 2 in 0,1,4,5. 3 in 4.\n",
    "#\t'>':':' \n",
    "    }\n",
    "    for k, w in words.items():\n",
    "        text = text.replace(k, w)\n",
    "\n",
    "    return text"
   ]
  },
  {
   "cell_type": "code",
   "execution_count": null,
   "id": "dda7b908",
   "metadata": {},
   "outputs": [],
   "source": [
    "def clean_text_3(text): # combination of clean_text and clean_text_2\n",
    "    text = re.sub(r\"\\s+\", \" \", text)\n",
    "    words = {\n",
    "        ' Œ': '-', \n",
    "        '\\n':'',\n",
    "        ' •': '',\n",
    "        '..':'', '▶':'-', '- ':'',\n",
    "    }\n",
    "    for k, w in words.items():\n",
    "        text = text.replace(k, w)\n",
    "\n",
    "    return text"
   ]
  },
  {
   "cell_type": "code",
   "execution_count": 4,
   "id": "35d46762",
   "metadata": {},
   "outputs": [],
   "source": [
    "def is_correct_sentence_german(sent):\n",
    "    if len(sent) <= 3:\n",
    "#        print(\"  >too few words\")\n",
    "        return False\n",
    "\n",
    "    has_verb = False\n",
    "    has_subject = False\n",
    "    for token in sent:\n",
    "        # this will be different for English\n",
    "        if token.pos_ == \"VERB\" or token.tag_ in [\"VAFIN\", \"VMFIN\"]:\n",
    "            has_verb = True\n",
    "        elif token.dep_ == \"sb\":\n",
    "            has_subject = True\n",
    "\n",
    "    is_correct = has_verb and has_subject\n",
    "#    if not is_correct:\n",
    "#        if not has_verb:\n",
    "#            print(\"  >has no verb\")\n",
    "#        if not has_subject:\n",
    "#            print(\"  >has no subject\")\n",
    "\n",
    "    return is_correct"
   ]
  }
 ],
 "metadata": {
  "kernelspec": {
   "display_name": "Python 3 (ipykernel)",
   "language": "python",
   "name": "python3"
  },
  "language_info": {
   "codemirror_mode": {
    "name": "ipython",
    "version": 3
   },
   "file_extension": ".py",
   "mimetype": "text/x-python",
   "name": "python",
   "nbconvert_exporter": "python",
   "pygments_lexer": "ipython3",
   "version": "3.11.4"
  }
 },
 "nbformat": 4,
 "nbformat_minor": 5
}
